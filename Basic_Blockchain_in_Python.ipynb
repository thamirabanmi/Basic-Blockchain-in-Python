{
  "nbformat": 4,
  "nbformat_minor": 0,
  "metadata": {
    "colab": {
      "name": "Basic Blockchain in Python.ipynb",
      "provenance": [],
      "collapsed_sections": []
    },
    "kernelspec": {
      "name": "python3",
      "display_name": "Python 3"
    },
    "language_info": {
      "name": "python"
    }
  },
  "cells": [
    {
      "cell_type": "code",
      "execution_count": 1,
      "metadata": {
        "id": "5ACrwqA8-C9x"
      },
      "outputs": [],
      "source": [
        "import hashlib\n",
        "import json\n",
        "import time\n",
        "from typing import List\n",
        "\n",
        "\n"
      ]
    },
    {
      "cell_type": "code",
      "source": [
        "tx_1 = {\n",
        "   \"addr_from\": \"3J98t1WpEZ73CNmQviecrnyiWrnqRhWNLy\",\n",
        "   \"addr_to\": \"1BvBMSEYstWetqTFn5Au4m4GFg7xJaNVN2\",   \n",
        "   \"amount\": 99.00\n",
        "}\n",
        "\n",
        "tx_2 = {\n",
        "   \"addr_from\": \"3J98t1WpEZ73CNmQviecrnyiWrnqRhWNLy\",\n",
        "   \"addr_to\": \"1BvBMSEYstWetqTFn5Au4m4GFg7xJaNVN2\",   \n",
        "   \"amount\": 93.00\n",
        "}\n",
        "\n",
        "tx_3 = {\n",
        "   \"addr_from\": \"3J98t1WpEZ73CNmQviecrnyiWrnqRhWNLy\",\n",
        "   \"addr_to\": \"1BvBMSEYstWetqTFn5Au4m4GFg7xJaNVN2\",   \n",
        "   \"amount\": 96.00\n",
        "}"
      ],
      "metadata": {
        "id": "0lB9cx8K-PIs"
      },
      "execution_count": 2,
      "outputs": []
    },
    {
      "cell_type": "code",
      "source": [
        "class Block():\n",
        "    def __init__(self,index:int=0,\n",
        "                 transactions:list=[],\n",
        "                 timestamp:int=0, \n",
        "                 cur_hash:str=\"\",\n",
        "                 previous_hash:str=\"\",\n",
        "                 nonce:int = 0 ):\n",
        "        \n",
        "            self.index:int = index\n",
        "            self.transactions:list = transactions\n",
        "            self.timestamp = timestamp\n",
        "            self.hash:str = cur_hash\n",
        "            self.previous_hash:str = previous_hash\n",
        "            self.nonce:int = nonce\n",
        "            \n",
        "def compute_hash(self)-> str:\n",
        "    block_string = json.dumps(self.__dict__, sort_keys=True)\n",
        "\n",
        "    return hashlib.sha256(block_string.encode()).hexdigest()"
      ],
      "metadata": {
        "id": "ppQnDIUF-SUR"
      },
      "execution_count": 3,
      "outputs": []
    },
    {
      "cell_type": "code",
      "source": [
        "b = Block(index=0)\n"
      ],
      "metadata": {
        "id": "92JZohq8-U_6"
      },
      "execution_count": 4,
      "outputs": []
    },
    {
      "cell_type": "code",
      "source": [
        "class Blockchain():\n",
        "    def __init__(self):\n",
        "        self.unconfirmed_transactions:list[dict] = []\n",
        "        self.chain:list[Block] = []\n",
        "        self.difficulty:int = 2\n",
        "        self.create_genesis_block() \n",
        "        \n",
        "# todo define get_last_block(self) -> Block, \n",
        "#hint: consider an index to the last element in your chain property.\n",
        "\n",
        "def get_last_block(self) -> Block:\n",
        "    return self.chain[-1]\n",
        "       \n",
        "    \n",
        "def create_genesis_block(self):     \n",
        "    genesis_block = Block(index=0 ,transactions=[], timestamp=time.time(),previous_hash= \"\")\n",
        "    genesis_block.hash = genesis_block.compute_hash()\n",
        "    self.chain.append(genesis_block)\n",
        "        \n",
        "    \n",
        "# todo define proof_of_work(self, block:Block) -> str, \n",
        "# hint consider something similar to:\n",
        "# computed_hash = how do we get the hash from a Block object?\n",
        "# while not computed_hash.startswith('0' * self.difficulty):\n",
        "#         block.nonce += 1\n",
        "#         computed_hash = block.compute_hash()\n",
        "# Don't forget to return the hash.\n",
        "\n",
        "def proof_of_work(self, block):\n",
        "        computed_hash = block.compute_hash()\n",
        "        while not computed_hash.startswith('0' * self.difficulty):\n",
        "            block.nonce += 1\n",
        "            computed_hash = block.compute_hash()\n",
        "        return computed_hash\n",
        "    \n",
        "# todo define is_valid_proof(self, block:Block, block_hash:str) -> bool\n",
        "# hint, we want to return true if block_hash.startswith('0' * self.difficulty)\n",
        "# AND if block_hash is in fact the hash of our block (maybe use block.compute_hash())\n",
        "\n",
        "def is_valid_proof(self, block:Block, proof:str) -> bool:\n",
        "    return proof.startwith('0'* self.difficulty) and block_hash == block.compute_hash()\n",
        "\n",
        "        \n",
        "# todo, define add_new_transaction(self, transaction:dict) -> None\n",
        "# Hint how do we append to a list?\n",
        "#How do we do this for a property of our object (self). Ease one line function.\n",
        "\n",
        "def add_block(self, block:Block, proof:str) -> bool:\n",
        "    last_b = self.get_last_block()\n",
        "    last_b.hash\n",
        "    \n",
        "    if last_b.hash != block.previous_hash:\n",
        "        return False\n",
        "    if not self.is_valid_proof(block, proof):\n",
        "        return False\n",
        "    \n",
        "    block.hash = proof\n",
        "    self.chain.append(block)\n",
        "    return True\n",
        "\n",
        "def add_new_transaction(self, transaction:dict) -> None:\n",
        "    self.unconfirmed_transactions.append(transaction)\n",
        "\n",
        "# todo define add_block(self, block:Block, proof:str) -> bool\n",
        "# hints, we probably want to get the previous hash from get_last_block()\n",
        "# Check if the previous hash matches the previous hash in the block argument. \n",
        "# Make use of is_valid_proof for block and proof to check if someone is trying to do something sneaky. \n",
        "# for both of the above, let's return False early and return control the calling function if the block is not valid.\n",
        "# If we make it this far, we're in the clear. So let's add the hash to our block, append it to the chain, \n",
        "# and return True.\n",
        "\n",
        "\n",
        "def mine(self) -> int:\n",
        "    if len(self.unconfirmed_transactions) <1:\n",
        "        return -1\n",
        "    \n",
        "    last_b = self.get_last_block()\n",
        "   # self.unconfirmed_transactions.append(tx_1)\n",
        "    \n",
        "    new_b = Block(index =last_b.index+1,\n",
        "                 transactions=self.unconfirmed_transactions,\n",
        "                 timestamp=int(time.time()),\n",
        "                 previous_hash=last_b.hash)\n",
        "    \n",
        "    proof =self.proof_work(new_b)\n",
        "    \n",
        "    self.add_block(new_b,proof)\n",
        "    self.unconfirmed_transactions = []\n",
        "    \n",
        "    return self.get_last_block.index"
      ],
      "metadata": {
        "id": "EdRgSNwE-XWD"
      },
      "execution_count": 5,
      "outputs": []
    }
  ]
}